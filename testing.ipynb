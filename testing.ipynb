{
 "cells": [
  {
   "cell_type": "code",
   "execution_count": 1,
   "metadata": {},
   "outputs": [],
   "source": [
    "import numpy as np\n",
    "import pandas as pd\n",
    "import xarray as xr\n",
    "import matplotlib.pyplot as plt\n",
    "import os\n",
    "from XPS_Experiment import *"
   ]
  },
  {
   "cell_type": "code",
   "execution_count": 2,
   "metadata": {},
   "outputs": [],
   "source": [
    "# filedata = XPS_Experiment()\n",
    "# filedata.read_file(\"/home/daniel/Desktop/cnpem/data_processing/vms/script/PB3_longscan_0001.txt\")\n",
    "\n",
    "# filedata.integrate()"
   ]
  },
  {
   "cell_type": "code",
   "execution_count": 3,
   "metadata": {},
   "outputs": [
    {
     "name": "stdout",
     "output_type": "stream",
     "text": [
      "Generating xy file for \"PB4_longscan_0003.txt\"\n",
      "Done!\n",
      "Generating xy file for \"PB4_longscan_0001.txt\"\n",
      "Done!\n",
      "Generating xy file for \"PB2_newlongscan_0001.txt\"\n",
      "Done!\n",
      "Generating xy file for \"PB4_longscan_0002.txt\"\n",
      "Done!\n",
      "Generating xy file for \"PB3_longscan_0001.txt\"\n",
      "Done!\n",
      "Generating xy file for \"daniel.txt\"\n",
      "\n",
      "\n",
      "Error: Invalid file: \n",
      "/home/daniel/Desktop/cnpem/data_processing/vms/script/daniel.txt\n",
      "\n",
      " Ignoring...\n",
      "\n",
      "\n",
      "Generating xy file for \"PB2_newlongscan_0003.txt\"\n",
      "Done!\n",
      "Generating xy file for \"PB3_longscan_0002.txt\"\n",
      "Done!\n",
      "Generating xy file for \"PB2_newlongscan_0002.txt\"\n",
      "Done!\n",
      "All files converted!\n"
     ]
    }
   ],
   "source": [
    "convert_directory_xy(\"/home/daniel/Desktop/cnpem/data_processing/vms/script\")"
   ]
  }
 ],
 "metadata": {
  "kernelspec": {
   "display_name": "Python 3.7.6 64-bit ('base': conda)",
   "language": "python",
   "name": "python37664bitbaseconda1396f5dd0753419f96fe7856bd455978"
  },
  "language_info": {
   "codemirror_mode": {
    "name": "ipython",
    "version": 3
   },
   "file_extension": ".py",
   "mimetype": "text/x-python",
   "name": "python",
   "nbconvert_exporter": "python",
   "pygments_lexer": "ipython3",
   "version": "3.7.10"
  }
 },
 "nbformat": 4,
 "nbformat_minor": 4
}
